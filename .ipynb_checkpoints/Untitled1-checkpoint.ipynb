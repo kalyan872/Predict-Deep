{
 "cells": [
  {
   "cell_type": "code",
   "execution_count": 44,
   "metadata": {},
   "outputs": [],
   "source": [
    "import pandas as p\n"
   ]
  },
  {
   "cell_type": "code",
   "execution_count": 45,
   "metadata": {},
   "outputs": [],
   "source": [
    "dataset=p.read_csv('C:/Users/91949/Desktop/4 th year project/weblog.csv')"
   ]
  },
  {
   "cell_type": "code",
   "execution_count": 46,
   "metadata": {},
   "outputs": [
    {
     "data": {
      "text/html": [
       "<div>\n",
       "<style scoped>\n",
       "    .dataframe tbody tr th:only-of-type {\n",
       "        vertical-align: middle;\n",
       "    }\n",
       "\n",
       "    .dataframe tbody tr th {\n",
       "        vertical-align: top;\n",
       "    }\n",
       "\n",
       "    .dataframe thead th {\n",
       "        text-align: right;\n",
       "    }\n",
       "</style>\n",
       "<table border=\"1\" class=\"dataframe\">\n",
       "  <thead>\n",
       "    <tr style=\"text-align: right;\">\n",
       "      <th></th>\n",
       "      <th>IP</th>\n",
       "      <th>Time</th>\n",
       "      <th>URL</th>\n",
       "      <th>Status</th>\n",
       "    </tr>\n",
       "  </thead>\n",
       "  <tbody>\n",
       "    <tr>\n",
       "      <th>0</th>\n",
       "      <td>10.128.2.1</td>\n",
       "      <td>[29/Nov/2017:06:58:55</td>\n",
       "      <td>GET /login.php HTTP/1.1</td>\n",
       "      <td>200</td>\n",
       "    </tr>\n",
       "    <tr>\n",
       "      <th>1</th>\n",
       "      <td>10.128.2.1</td>\n",
       "      <td>[29/Nov/2017:06:59:02</td>\n",
       "      <td>POST /process.php HTTP/1.1</td>\n",
       "      <td>302</td>\n",
       "    </tr>\n",
       "    <tr>\n",
       "      <th>2</th>\n",
       "      <td>10.128.2.1</td>\n",
       "      <td>[29/Nov/2017:06:59:03</td>\n",
       "      <td>GET /home.php HTTP/1.1</td>\n",
       "      <td>200</td>\n",
       "    </tr>\n",
       "    <tr>\n",
       "      <th>3</th>\n",
       "      <td>10.131.2.1</td>\n",
       "      <td>[29/Nov/2017:06:59:04</td>\n",
       "      <td>GET /js/vendor/moment.min.js HTTP/1.1</td>\n",
       "      <td>200</td>\n",
       "    </tr>\n",
       "    <tr>\n",
       "      <th>4</th>\n",
       "      <td>10.130.2.1</td>\n",
       "      <td>[29/Nov/2017:06:59:06</td>\n",
       "      <td>GET /bootstrap-3.3.7/js/bootstrap.js HTTP/1.1</td>\n",
       "      <td>200</td>\n",
       "    </tr>\n",
       "    <tr>\n",
       "      <th>...</th>\n",
       "      <td>...</td>\n",
       "      <td>...</td>\n",
       "      <td>...</td>\n",
       "      <td>...</td>\n",
       "    </tr>\n",
       "    <tr>\n",
       "      <th>15783</th>\n",
       "      <td>10.130.2.1</td>\n",
       "      <td>[02/Mar/2018:15:47:12</td>\n",
       "      <td>GET /showcode.php?id=309&amp;nm=ham05 HTTP/1.1</td>\n",
       "      <td>200</td>\n",
       "    </tr>\n",
       "    <tr>\n",
       "      <th>15784</th>\n",
       "      <td>10.130.2.1</td>\n",
       "      <td>[02/Mar/2018:15:47:23</td>\n",
       "      <td>GET /allsubmission.php HTTP/1.1</td>\n",
       "      <td>200</td>\n",
       "    </tr>\n",
       "    <tr>\n",
       "      <th>15785</th>\n",
       "      <td>10.130.2.1</td>\n",
       "      <td>[02/Mar/2018:15:47:32</td>\n",
       "      <td>GET /showcode.php?id=309&amp;nm=ham05 HTTP/1.1</td>\n",
       "      <td>200</td>\n",
       "    </tr>\n",
       "    <tr>\n",
       "      <th>15786</th>\n",
       "      <td>10.130.2.1</td>\n",
       "      <td>[02/Mar/2018:15:47:35</td>\n",
       "      <td>GET /allsubmission.php HTTP/1.1</td>\n",
       "      <td>200</td>\n",
       "    </tr>\n",
       "    <tr>\n",
       "      <th>15787</th>\n",
       "      <td>10.130.2.1</td>\n",
       "      <td>[02/Mar/2018:15:47:46</td>\n",
       "      <td>GET /home.php HTTP/1.1</td>\n",
       "      <td>200</td>\n",
       "    </tr>\n",
       "  </tbody>\n",
       "</table>\n",
       "<p>15788 rows × 4 columns</p>\n",
       "</div>"
      ],
      "text/plain": [
       "               IP                   Time  \\\n",
       "0      10.128.2.1  [29/Nov/2017:06:58:55   \n",
       "1      10.128.2.1  [29/Nov/2017:06:59:02   \n",
       "2      10.128.2.1  [29/Nov/2017:06:59:03   \n",
       "3      10.131.2.1  [29/Nov/2017:06:59:04   \n",
       "4      10.130.2.1  [29/Nov/2017:06:59:06   \n",
       "...           ...                    ...   \n",
       "15783  10.130.2.1  [02/Mar/2018:15:47:12   \n",
       "15784  10.130.2.1  [02/Mar/2018:15:47:23   \n",
       "15785  10.130.2.1  [02/Mar/2018:15:47:32   \n",
       "15786  10.130.2.1  [02/Mar/2018:15:47:35   \n",
       "15787  10.130.2.1  [02/Mar/2018:15:47:46   \n",
       "\n",
       "                                                 URL  Status  \n",
       "0                            GET /login.php HTTP/1.1     200  \n",
       "1                         POST /process.php HTTP/1.1     302  \n",
       "2                             GET /home.php HTTP/1.1     200  \n",
       "3              GET /js/vendor/moment.min.js HTTP/1.1     200  \n",
       "4      GET /bootstrap-3.3.7/js/bootstrap.js HTTP/1.1     200  \n",
       "...                                              ...     ...  \n",
       "15783     GET /showcode.php?id=309&nm=ham05 HTTP/1.1     200  \n",
       "15784                GET /allsubmission.php HTTP/1.1     200  \n",
       "15785     GET /showcode.php?id=309&nm=ham05 HTTP/1.1     200  \n",
       "15786                GET /allsubmission.php HTTP/1.1     200  \n",
       "15787                         GET /home.php HTTP/1.1     200  \n",
       "\n",
       "[15788 rows x 4 columns]"
      ]
     },
     "execution_count": 46,
     "metadata": {},
     "output_type": "execute_result"
    }
   ],
   "source": [
    "dataset"
   ]
  },
  {
   "cell_type": "code",
   "execution_count": 47,
   "metadata": {
    "scrolled": true
   },
   "outputs": [
    {
     "data": {
      "text/html": [
       "<div>\n",
       "<style scoped>\n",
       "    .dataframe tbody tr th:only-of-type {\n",
       "        vertical-align: middle;\n",
       "    }\n",
       "\n",
       "    .dataframe tbody tr th {\n",
       "        vertical-align: top;\n",
       "    }\n",
       "\n",
       "    .dataframe thead th {\n",
       "        text-align: right;\n",
       "    }\n",
       "</style>\n",
       "<table border=\"1\" class=\"dataframe\">\n",
       "  <thead>\n",
       "    <tr style=\"text-align: right;\">\n",
       "      <th></th>\n",
       "      <th>Time</th>\n",
       "      <th>URL</th>\n",
       "      <th>Status</th>\n",
       "    </tr>\n",
       "    <tr>\n",
       "      <th>IP</th>\n",
       "      <th></th>\n",
       "      <th></th>\n",
       "      <th></th>\n",
       "    </tr>\n",
       "  </thead>\n",
       "  <tbody>\n",
       "    <tr>\n",
       "      <th>10.128.2.1</th>\n",
       "      <td>[29/Nov/2017:06:58:55</td>\n",
       "      <td>GET /login.php HTTP/1.1</td>\n",
       "      <td>200</td>\n",
       "    </tr>\n",
       "    <tr>\n",
       "      <th>10.128.2.1</th>\n",
       "      <td>[29/Nov/2017:06:59:02</td>\n",
       "      <td>POST /process.php HTTP/1.1</td>\n",
       "      <td>302</td>\n",
       "    </tr>\n",
       "    <tr>\n",
       "      <th>10.128.2.1</th>\n",
       "      <td>[29/Nov/2017:06:59:03</td>\n",
       "      <td>GET /home.php HTTP/1.1</td>\n",
       "      <td>200</td>\n",
       "    </tr>\n",
       "    <tr>\n",
       "      <th>10.131.2.1</th>\n",
       "      <td>[29/Nov/2017:06:59:04</td>\n",
       "      <td>GET /js/vendor/moment.min.js HTTP/1.1</td>\n",
       "      <td>200</td>\n",
       "    </tr>\n",
       "    <tr>\n",
       "      <th>10.130.2.1</th>\n",
       "      <td>[29/Nov/2017:06:59:06</td>\n",
       "      <td>GET /bootstrap-3.3.7/js/bootstrap.js HTTP/1.1</td>\n",
       "      <td>200</td>\n",
       "    </tr>\n",
       "    <tr>\n",
       "      <th>...</th>\n",
       "      <td>...</td>\n",
       "      <td>...</td>\n",
       "      <td>...</td>\n",
       "    </tr>\n",
       "    <tr>\n",
       "      <th>10.130.2.1</th>\n",
       "      <td>[02/Mar/2018:15:47:12</td>\n",
       "      <td>GET /showcode.php?id=309&amp;nm=ham05 HTTP/1.1</td>\n",
       "      <td>200</td>\n",
       "    </tr>\n",
       "    <tr>\n",
       "      <th>10.130.2.1</th>\n",
       "      <td>[02/Mar/2018:15:47:23</td>\n",
       "      <td>GET /allsubmission.php HTTP/1.1</td>\n",
       "      <td>200</td>\n",
       "    </tr>\n",
       "    <tr>\n",
       "      <th>10.130.2.1</th>\n",
       "      <td>[02/Mar/2018:15:47:32</td>\n",
       "      <td>GET /showcode.php?id=309&amp;nm=ham05 HTTP/1.1</td>\n",
       "      <td>200</td>\n",
       "    </tr>\n",
       "    <tr>\n",
       "      <th>10.130.2.1</th>\n",
       "      <td>[02/Mar/2018:15:47:35</td>\n",
       "      <td>GET /allsubmission.php HTTP/1.1</td>\n",
       "      <td>200</td>\n",
       "    </tr>\n",
       "    <tr>\n",
       "      <th>10.130.2.1</th>\n",
       "      <td>[02/Mar/2018:15:47:46</td>\n",
       "      <td>GET /home.php HTTP/1.1</td>\n",
       "      <td>200</td>\n",
       "    </tr>\n",
       "  </tbody>\n",
       "</table>\n",
       "<p>15788 rows × 3 columns</p>\n",
       "</div>"
      ],
      "text/plain": [
       "                             Time  \\\n",
       "IP                                  \n",
       "10.128.2.1  [29/Nov/2017:06:58:55   \n",
       "10.128.2.1  [29/Nov/2017:06:59:02   \n",
       "10.128.2.1  [29/Nov/2017:06:59:03   \n",
       "10.131.2.1  [29/Nov/2017:06:59:04   \n",
       "10.130.2.1  [29/Nov/2017:06:59:06   \n",
       "...                           ...   \n",
       "10.130.2.1  [02/Mar/2018:15:47:12   \n",
       "10.130.2.1  [02/Mar/2018:15:47:23   \n",
       "10.130.2.1  [02/Mar/2018:15:47:32   \n",
       "10.130.2.1  [02/Mar/2018:15:47:35   \n",
       "10.130.2.1  [02/Mar/2018:15:47:46   \n",
       "\n",
       "                                                      URL  Status  \n",
       "IP                                                                 \n",
       "10.128.2.1                        GET /login.php HTTP/1.1     200  \n",
       "10.128.2.1                     POST /process.php HTTP/1.1     302  \n",
       "10.128.2.1                         GET /home.php HTTP/1.1     200  \n",
       "10.131.2.1          GET /js/vendor/moment.min.js HTTP/1.1     200  \n",
       "10.130.2.1  GET /bootstrap-3.3.7/js/bootstrap.js HTTP/1.1     200  \n",
       "...                                                   ...     ...  \n",
       "10.130.2.1     GET /showcode.php?id=309&nm=ham05 HTTP/1.1     200  \n",
       "10.130.2.1                GET /allsubmission.php HTTP/1.1     200  \n",
       "10.130.2.1     GET /showcode.php?id=309&nm=ham05 HTTP/1.1     200  \n",
       "10.130.2.1                GET /allsubmission.php HTTP/1.1     200  \n",
       "10.130.2.1                         GET /home.php HTTP/1.1     200  \n",
       "\n",
       "[15788 rows x 3 columns]"
      ]
     },
     "execution_count": 47,
     "metadata": {},
     "output_type": "execute_result"
    }
   ],
   "source": [
    "dataset=p.read_csv('C:/Users/91949/Desktop/4 th year project/weblog.csv',index_col=0)\n",
    "dataset"
   ]
  },
  {
   "cell_type": "code",
   "execution_count": 48,
   "metadata": {},
   "outputs": [
    {
     "data": {
      "text/plain": [
       "Index(['Time', 'URL', 'Status'], dtype='object')"
      ]
     },
     "execution_count": 48,
     "metadata": {},
     "output_type": "execute_result"
    }
   ],
   "source": [
    "dataset.columns\n"
   ]
  },
  {
   "cell_type": "code",
   "execution_count": 49,
   "metadata": {},
   "outputs": [
    {
     "data": {
      "text/html": [
       "<div>\n",
       "<style scoped>\n",
       "    .dataframe tbody tr th:only-of-type {\n",
       "        vertical-align: middle;\n",
       "    }\n",
       "\n",
       "    .dataframe tbody tr th {\n",
       "        vertical-align: top;\n",
       "    }\n",
       "\n",
       "    .dataframe thead th {\n",
       "        text-align: right;\n",
       "    }\n",
       "</style>\n",
       "<table border=\"1\" class=\"dataframe\">\n",
       "  <thead>\n",
       "    <tr style=\"text-align: right;\">\n",
       "      <th></th>\n",
       "      <th>Status</th>\n",
       "    </tr>\n",
       "  </thead>\n",
       "  <tbody>\n",
       "    <tr>\n",
       "      <th>count</th>\n",
       "      <td>15788.000000</td>\n",
       "    </tr>\n",
       "    <tr>\n",
       "      <th>mean</th>\n",
       "      <td>230.196605</td>\n",
       "    </tr>\n",
       "    <tr>\n",
       "      <th>std</th>\n",
       "      <td>50.059544</td>\n",
       "    </tr>\n",
       "    <tr>\n",
       "      <th>min</th>\n",
       "      <td>200.000000</td>\n",
       "    </tr>\n",
       "    <tr>\n",
       "      <th>25%</th>\n",
       "      <td>200.000000</td>\n",
       "    </tr>\n",
       "    <tr>\n",
       "      <th>50%</th>\n",
       "      <td>200.000000</td>\n",
       "    </tr>\n",
       "    <tr>\n",
       "      <th>75%</th>\n",
       "      <td>302.000000</td>\n",
       "    </tr>\n",
       "    <tr>\n",
       "      <th>max</th>\n",
       "      <td>404.000000</td>\n",
       "    </tr>\n",
       "  </tbody>\n",
       "</table>\n",
       "</div>"
      ],
      "text/plain": [
       "             Status\n",
       "count  15788.000000\n",
       "mean     230.196605\n",
       "std       50.059544\n",
       "min      200.000000\n",
       "25%      200.000000\n",
       "50%      200.000000\n",
       "75%      302.000000\n",
       "max      404.000000"
      ]
     },
     "execution_count": 49,
     "metadata": {},
     "output_type": "execute_result"
    }
   ],
   "source": [
    "dataset.describe()"
   ]
  },
  {
   "cell_type": "code",
   "execution_count": 50,
   "metadata": {},
   "outputs": [
    {
     "data": {
      "text/plain": [
       "Time      object\n",
       "URL       object\n",
       "Status     int64\n",
       "dtype: object"
      ]
     },
     "execution_count": 50,
     "metadata": {},
     "output_type": "execute_result"
    }
   ],
   "source": [
    "dataset.dtypes"
   ]
  },
  {
   "cell_type": "code",
   "execution_count": 51,
   "metadata": {},
   "outputs": [
    {
     "data": {
      "text/plain": [
       "IP\n",
       "10.128.2.1    200\n",
       "10.128.2.1    302\n",
       "10.128.2.1    200\n",
       "10.131.2.1    200\n",
       "10.130.2.1    200\n",
       "             ... \n",
       "10.130.2.1    200\n",
       "10.130.2.1    200\n",
       "10.130.2.1    200\n",
       "10.130.2.1    200\n",
       "10.130.2.1    200\n",
       "Name: Status, Length: 15788, dtype: int64"
      ]
     },
     "execution_count": 51,
     "metadata": {},
     "output_type": "execute_result"
    }
   ],
   "source": [
    "dataset.Status"
   ]
  },
  {
   "cell_type": "code",
   "execution_count": 52,
   "metadata": {},
   "outputs": [
    {
     "data": {
      "text/plain": [
       "dtype('int64')"
      ]
     },
     "execution_count": 52,
     "metadata": {},
     "output_type": "execute_result"
    }
   ],
   "source": [
    "dataset.Status.dtype"
   ]
  },
  {
   "cell_type": "code",
   "execution_count": 53,
   "metadata": {},
   "outputs": [
    {
     "data": {
      "text/html": [
       "<div>\n",
       "<style scoped>\n",
       "    .dataframe tbody tr th:only-of-type {\n",
       "        vertical-align: middle;\n",
       "    }\n",
       "\n",
       "    .dataframe tbody tr th {\n",
       "        vertical-align: top;\n",
       "    }\n",
       "\n",
       "    .dataframe thead th {\n",
       "        text-align: right;\n",
       "    }\n",
       "</style>\n",
       "<table border=\"1\" class=\"dataframe\">\n",
       "  <thead>\n",
       "    <tr style=\"text-align: right;\">\n",
       "      <th></th>\n",
       "      <th>Time</th>\n",
       "      <th>URL</th>\n",
       "      <th>Status</th>\n",
       "    </tr>\n",
       "    <tr>\n",
       "      <th>IP</th>\n",
       "      <th></th>\n",
       "      <th></th>\n",
       "      <th></th>\n",
       "    </tr>\n",
       "  </thead>\n",
       "  <tbody>\n",
       "    <tr>\n",
       "      <th>10.128.2.1</th>\n",
       "      <td>[29/Nov/2017:06:58:55</td>\n",
       "      <td>GET /login.php HTTP/1.1</td>\n",
       "      <td>200</td>\n",
       "    </tr>\n",
       "    <tr>\n",
       "      <th>10.128.2.1</th>\n",
       "      <td>[29/Nov/2017:06:59:02</td>\n",
       "      <td>POST /process.php HTTP/1.1</td>\n",
       "      <td>302</td>\n",
       "    </tr>\n",
       "    <tr>\n",
       "      <th>10.128.2.1</th>\n",
       "      <td>[29/Nov/2017:06:59:03</td>\n",
       "      <td>GET /home.php HTTP/1.1</td>\n",
       "      <td>200</td>\n",
       "    </tr>\n",
       "    <tr>\n",
       "      <th>10.131.2.1</th>\n",
       "      <td>[29/Nov/2017:06:59:04</td>\n",
       "      <td>GET /js/vendor/moment.min.js HTTP/1.1</td>\n",
       "      <td>200</td>\n",
       "    </tr>\n",
       "    <tr>\n",
       "      <th>10.130.2.1</th>\n",
       "      <td>[29/Nov/2017:06:59:06</td>\n",
       "      <td>GET /bootstrap-3.3.7/js/bootstrap.js HTTP/1.1</td>\n",
       "      <td>200</td>\n",
       "    </tr>\n",
       "  </tbody>\n",
       "</table>\n",
       "</div>"
      ],
      "text/plain": [
       "                             Time  \\\n",
       "IP                                  \n",
       "10.128.2.1  [29/Nov/2017:06:58:55   \n",
       "10.128.2.1  [29/Nov/2017:06:59:02   \n",
       "10.128.2.1  [29/Nov/2017:06:59:03   \n",
       "10.131.2.1  [29/Nov/2017:06:59:04   \n",
       "10.130.2.1  [29/Nov/2017:06:59:06   \n",
       "\n",
       "                                                      URL  Status  \n",
       "IP                                                                 \n",
       "10.128.2.1                        GET /login.php HTTP/1.1     200  \n",
       "10.128.2.1                     POST /process.php HTTP/1.1     302  \n",
       "10.128.2.1                         GET /home.php HTTP/1.1     200  \n",
       "10.131.2.1          GET /js/vendor/moment.min.js HTTP/1.1     200  \n",
       "10.130.2.1  GET /bootstrap-3.3.7/js/bootstrap.js HTTP/1.1     200  "
      ]
     },
     "execution_count": 53,
     "metadata": {},
     "output_type": "execute_result"
    }
   ],
   "source": [
    "dataset.head()"
   ]
  },
  {
   "cell_type": "code",
   "execution_count": 54,
   "metadata": {},
   "outputs": [
    {
     "data": {
      "text/html": [
       "<div>\n",
       "<style scoped>\n",
       "    .dataframe tbody tr th:only-of-type {\n",
       "        vertical-align: middle;\n",
       "    }\n",
       "\n",
       "    .dataframe tbody tr th {\n",
       "        vertical-align: top;\n",
       "    }\n",
       "\n",
       "    .dataframe thead th {\n",
       "        text-align: right;\n",
       "    }\n",
       "</style>\n",
       "<table border=\"1\" class=\"dataframe\">\n",
       "  <thead>\n",
       "    <tr style=\"text-align: right;\">\n",
       "      <th></th>\n",
       "      <th>Time</th>\n",
       "      <th>URL</th>\n",
       "      <th>Status</th>\n",
       "    </tr>\n",
       "    <tr>\n",
       "      <th>IP</th>\n",
       "      <th></th>\n",
       "      <th></th>\n",
       "      <th></th>\n",
       "    </tr>\n",
       "  </thead>\n",
       "  <tbody>\n",
       "    <tr>\n",
       "      <th>10.130.2.1</th>\n",
       "      <td>[02/Mar/2018:15:47:12</td>\n",
       "      <td>GET /showcode.php?id=309&amp;nm=ham05 HTTP/1.1</td>\n",
       "      <td>200</td>\n",
       "    </tr>\n",
       "    <tr>\n",
       "      <th>10.130.2.1</th>\n",
       "      <td>[02/Mar/2018:15:47:23</td>\n",
       "      <td>GET /allsubmission.php HTTP/1.1</td>\n",
       "      <td>200</td>\n",
       "    </tr>\n",
       "    <tr>\n",
       "      <th>10.130.2.1</th>\n",
       "      <td>[02/Mar/2018:15:47:32</td>\n",
       "      <td>GET /showcode.php?id=309&amp;nm=ham05 HTTP/1.1</td>\n",
       "      <td>200</td>\n",
       "    </tr>\n",
       "    <tr>\n",
       "      <th>10.130.2.1</th>\n",
       "      <td>[02/Mar/2018:15:47:35</td>\n",
       "      <td>GET /allsubmission.php HTTP/1.1</td>\n",
       "      <td>200</td>\n",
       "    </tr>\n",
       "    <tr>\n",
       "      <th>10.130.2.1</th>\n",
       "      <td>[02/Mar/2018:15:47:46</td>\n",
       "      <td>GET /home.php HTTP/1.1</td>\n",
       "      <td>200</td>\n",
       "    </tr>\n",
       "  </tbody>\n",
       "</table>\n",
       "</div>"
      ],
      "text/plain": [
       "                             Time                                         URL  \\\n",
       "IP                                                                              \n",
       "10.130.2.1  [02/Mar/2018:15:47:12  GET /showcode.php?id=309&nm=ham05 HTTP/1.1   \n",
       "10.130.2.1  [02/Mar/2018:15:47:23             GET /allsubmission.php HTTP/1.1   \n",
       "10.130.2.1  [02/Mar/2018:15:47:32  GET /showcode.php?id=309&nm=ham05 HTTP/1.1   \n",
       "10.130.2.1  [02/Mar/2018:15:47:35             GET /allsubmission.php HTTP/1.1   \n",
       "10.130.2.1  [02/Mar/2018:15:47:46                      GET /home.php HTTP/1.1   \n",
       "\n",
       "            Status  \n",
       "IP                  \n",
       "10.130.2.1     200  \n",
       "10.130.2.1     200  \n",
       "10.130.2.1     200  \n",
       "10.130.2.1     200  \n",
       "10.130.2.1     200  "
      ]
     },
     "execution_count": 54,
     "metadata": {},
     "output_type": "execute_result"
    }
   ],
   "source": [
    "dataset.tail()"
   ]
  },
  {
   "cell_type": "code",
   "execution_count": 55,
   "metadata": {},
   "outputs": [
    {
     "data": {
      "text/plain": [
       "IP\n",
       "10.128.2.1    200\n",
       "10.128.2.1    302\n",
       "10.128.2.1    200\n",
       "10.131.2.1    200\n",
       "10.130.2.1    200\n",
       "             ... \n",
       "10.130.2.1    200\n",
       "10.130.2.1    200\n",
       "10.130.2.1    200\n",
       "10.130.2.1    200\n",
       "10.130.2.1    200\n",
       "Name: Status, Length: 15788, dtype: int64"
      ]
     },
     "execution_count": 55,
     "metadata": {},
     "output_type": "execute_result"
    }
   ],
   "source": [
    "dataset.Status"
   ]
  },
  {
   "cell_type": "code",
   "execution_count": 56,
   "metadata": {},
   "outputs": [
    {
     "data": {
      "text/plain": [
       "(15788, 3)"
      ]
     },
     "execution_count": 56,
     "metadata": {},
     "output_type": "execute_result"
    }
   ],
   "source": [
    "dataset.shape"
   ]
  }
 ],
 "metadata": {
  "kernelspec": {
   "display_name": "Python 3",
   "language": "python",
   "name": "python3"
  },
  "language_info": {
   "codemirror_mode": {
    "name": "ipython",
    "version": 3
   },
   "file_extension": ".py",
   "mimetype": "text/x-python",
   "name": "python",
   "nbconvert_exporter": "python",
   "pygments_lexer": "ipython3",
   "version": "3.8.5"
  }
 },
 "nbformat": 4,
 "nbformat_minor": 4
}
