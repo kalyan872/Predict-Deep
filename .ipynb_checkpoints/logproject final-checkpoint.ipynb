{
 "cells": [
  {
   "cell_type": "code",
   "execution_count": 2,
   "metadata": {},
   "outputs": [],
   "source": [
    "import pandas as pd\n",
    "import numpy as np\n",
    "import matplotlib.pyplot as plt\n",
    "import datetime"
   ]
  },
  {
   "cell_type": "code",
   "execution_count": 3,
   "metadata": {},
   "outputs": [
    {
     "data": {
      "text/html": [
       "<div>\n",
       "<style scoped>\n",
       "    .dataframe tbody tr th:only-of-type {\n",
       "        vertical-align: middle;\n",
       "    }\n",
       "\n",
       "    .dataframe tbody tr th {\n",
       "        vertical-align: top;\n",
       "    }\n",
       "\n",
       "    .dataframe thead th {\n",
       "        text-align: right;\n",
       "    }\n",
       "</style>\n",
       "<table border=\"1\" class=\"dataframe\">\n",
       "  <thead>\n",
       "    <tr style=\"text-align: right;\">\n",
       "      <th></th>\n",
       "      <th>IP</th>\n",
       "      <th>Time</th>\n",
       "      <th>URL</th>\n",
       "      <th>Status</th>\n",
       "    </tr>\n",
       "  </thead>\n",
       "  <tbody>\n",
       "    <tr>\n",
       "      <th>0</th>\n",
       "      <td>10.128.2.1</td>\n",
       "      <td>[29/Nov/2017:06:58:55</td>\n",
       "      <td>GET /login.php HTTP/1.1</td>\n",
       "      <td>200</td>\n",
       "    </tr>\n",
       "    <tr>\n",
       "      <th>1</th>\n",
       "      <td>10.128.2.1</td>\n",
       "      <td>[29/Nov/2017:06:59:02</td>\n",
       "      <td>POST /process.php HTTP/1.1</td>\n",
       "      <td>302</td>\n",
       "    </tr>\n",
       "    <tr>\n",
       "      <th>2</th>\n",
       "      <td>10.128.2.1</td>\n",
       "      <td>[29/Nov/2017:06:59:03</td>\n",
       "      <td>GET /home.php HTTP/1.1</td>\n",
       "      <td>200</td>\n",
       "    </tr>\n",
       "    <tr>\n",
       "      <th>3</th>\n",
       "      <td>10.131.2.1</td>\n",
       "      <td>[29/Nov/2017:06:59:04</td>\n",
       "      <td>GET /js/vendor/moment.min.js HTTP/1.1</td>\n",
       "      <td>200</td>\n",
       "    </tr>\n",
       "    <tr>\n",
       "      <th>4</th>\n",
       "      <td>10.130.2.1</td>\n",
       "      <td>[29/Nov/2017:06:59:06</td>\n",
       "      <td>GET /bootstrap-3.3.7/js/bootstrap.js HTTP/1.1</td>\n",
       "      <td>200</td>\n",
       "    </tr>\n",
       "  </tbody>\n",
       "</table>\n",
       "</div>"
      ],
      "text/plain": [
       "           IP                   Time  \\\n",
       "0  10.128.2.1  [29/Nov/2017:06:58:55   \n",
       "1  10.128.2.1  [29/Nov/2017:06:59:02   \n",
       "2  10.128.2.1  [29/Nov/2017:06:59:03   \n",
       "3  10.131.2.1  [29/Nov/2017:06:59:04   \n",
       "4  10.130.2.1  [29/Nov/2017:06:59:06   \n",
       "\n",
       "                                             URL  Status  \n",
       "0                        GET /login.php HTTP/1.1     200  \n",
       "1                     POST /process.php HTTP/1.1     302  \n",
       "2                         GET /home.php HTTP/1.1     200  \n",
       "3          GET /js/vendor/moment.min.js HTTP/1.1     200  \n",
       "4  GET /bootstrap-3.3.7/js/bootstrap.js HTTP/1.1     200  "
      ]
     },
     "execution_count": 3,
     "metadata": {},
     "output_type": "execute_result"
    }
   ],
   "source": [
    "dataset = pd.read_csv('C:/Users/91949/Desktop/4 th year project/weblog.csv')\n",
    "dataset.head()"
   ]
  },
  {
   "cell_type": "code",
   "execution_count": 4,
   "metadata": {},
   "outputs": [
    {
     "data": {
      "text/plain": [
       "0    10.128.2.1\n",
       "Name: IP, dtype: object"
      ]
     },
     "execution_count": 4,
     "metadata": {},
     "output_type": "execute_result"
    }
   ],
   "source": [
    "dataset.iloc[0:1,0]"
   ]
  },
  {
   "cell_type": "code",
   "execution_count": 5,
   "metadata": {},
   "outputs": [
    {
     "data": {
      "text/html": [
       "<div>\n",
       "<style scoped>\n",
       "    .dataframe tbody tr th:only-of-type {\n",
       "        vertical-align: middle;\n",
       "    }\n",
       "\n",
       "    .dataframe tbody tr th {\n",
       "        vertical-align: top;\n",
       "    }\n",
       "\n",
       "    .dataframe thead th {\n",
       "        text-align: right;\n",
       "    }\n",
       "</style>\n",
       "<table border=\"1\" class=\"dataframe\">\n",
       "  <thead>\n",
       "    <tr style=\"text-align: right;\">\n",
       "      <th></th>\n",
       "      <th>IP</th>\n",
       "      <th>Time</th>\n",
       "      <th>URL</th>\n",
       "      <th>Status</th>\n",
       "    </tr>\n",
       "  </thead>\n",
       "  <tbody>\n",
       "    <tr>\n",
       "      <th>0</th>\n",
       "      <td>10.128.2.1</td>\n",
       "      <td>[29/Nov/2017:06:58:55</td>\n",
       "      <td>GET /login.php HTTP/1.1</td>\n",
       "      <td>200</td>\n",
       "    </tr>\n",
       "    <tr>\n",
       "      <th>1</th>\n",
       "      <td>10.128.2.1</td>\n",
       "      <td>[29/Nov/2017:06:59:02</td>\n",
       "      <td>POST /process.php HTTP/1.1</td>\n",
       "      <td>302</td>\n",
       "    </tr>\n",
       "    <tr>\n",
       "      <th>2</th>\n",
       "      <td>10.128.2.1</td>\n",
       "      <td>[29/Nov/2017:06:59:03</td>\n",
       "      <td>GET /home.php HTTP/1.1</td>\n",
       "      <td>200</td>\n",
       "    </tr>\n",
       "    <tr>\n",
       "      <th>3</th>\n",
       "      <td>10.131.2.1</td>\n",
       "      <td>[29/Nov/2017:06:59:04</td>\n",
       "      <td>GET /js/vendor/moment.min.js HTTP/1.1</td>\n",
       "      <td>200</td>\n",
       "    </tr>\n",
       "    <tr>\n",
       "      <th>4</th>\n",
       "      <td>10.130.2.1</td>\n",
       "      <td>[29/Nov/2017:06:59:06</td>\n",
       "      <td>GET /bootstrap-3.3.7/js/bootstrap.js HTTP/1.1</td>\n",
       "      <td>200</td>\n",
       "    </tr>\n",
       "  </tbody>\n",
       "</table>\n",
       "</div>"
      ],
      "text/plain": [
       "           IP                   Time  \\\n",
       "0  10.128.2.1  [29/Nov/2017:06:58:55   \n",
       "1  10.128.2.1  [29/Nov/2017:06:59:02   \n",
       "2  10.128.2.1  [29/Nov/2017:06:59:03   \n",
       "3  10.131.2.1  [29/Nov/2017:06:59:04   \n",
       "4  10.130.2.1  [29/Nov/2017:06:59:06   \n",
       "\n",
       "                                             URL  Status  \n",
       "0                        GET /login.php HTTP/1.1     200  \n",
       "1                     POST /process.php HTTP/1.1     302  \n",
       "2                         GET /home.php HTTP/1.1     200  \n",
       "3          GET /js/vendor/moment.min.js HTTP/1.1     200  \n",
       "4  GET /bootstrap-3.3.7/js/bootstrap.js HTTP/1.1     200  "
      ]
     },
     "execution_count": 5,
     "metadata": {},
     "output_type": "execute_result"
    }
   ],
   "source": [
    "df = dataset.iloc[:580,:]\n",
    "df.head()"
   ]
  },
  {
   "cell_type": "code",
   "execution_count": 6,
   "metadata": {},
   "outputs": [
    {
     "data": {
      "text/plain": [
       "(580, 4)"
      ]
     },
     "execution_count": 6,
     "metadata": {},
     "output_type": "execute_result"
    }
   ],
   "source": [
    "df.shape"
   ]
  },
  {
   "cell_type": "code",
   "execution_count": 7,
   "metadata": {},
   "outputs": [
    {
     "data": {
      "text/html": [
       "<div>\n",
       "<style scoped>\n",
       "    .dataframe tbody tr th:only-of-type {\n",
       "        vertical-align: middle;\n",
       "    }\n",
       "\n",
       "    .dataframe tbody tr th {\n",
       "        vertical-align: top;\n",
       "    }\n",
       "\n",
       "    .dataframe thead th {\n",
       "        text-align: right;\n",
       "    }\n",
       "</style>\n",
       "<table border=\"1\" class=\"dataframe\">\n",
       "  <thead>\n",
       "    <tr style=\"text-align: right;\">\n",
       "      <th></th>\n",
       "      <th>IP_Address</th>\n",
       "      <th>Time_Difference_Mean</th>\n",
       "      <th>Time_Difference_Variance</th>\n",
       "      <th>Time_Difference_Sum</th>\n",
       "      <th>Time_Difference_Maximum</th>\n",
       "      <th>Character-bigrams</th>\n",
       "      <th>Character-trigrams</th>\n",
       "      <th>Character-ngrams</th>\n",
       "      <th>Count_of_most_visited_page</th>\n",
       "      <th>Status</th>\n",
       "      <th>Number_of_records</th>\n",
       "    </tr>\n",
       "  </thead>\n",
       "  <tbody>\n",
       "    <tr>\n",
       "      <th>0</th>\n",
       "      <td>10.128.2.1</td>\n",
       "      <td>99</td>\n",
       "      <td>54</td>\n",
       "      <td>105</td>\n",
       "      <td>15</td>\n",
       "      <td>45</td>\n",
       "      <td>34</td>\n",
       "      <td>74</td>\n",
       "      <td>14</td>\n",
       "      <td>200</td>\n",
       "      <td>40</td>\n",
       "    </tr>\n",
       "  </tbody>\n",
       "</table>\n",
       "</div>"
      ],
      "text/plain": [
       "   IP_Address  Time_Difference_Mean  Time_Difference_Variance  \\\n",
       "0  10.128.2.1                    99                        54   \n",
       "\n",
       "   Time_Difference_Sum  Time_Difference_Maximum  Character-bigrams  \\\n",
       "0                  105                       15                 45   \n",
       "\n",
       "   Character-trigrams  Character-ngrams  Count_of_most_visited_page  Status  \\\n",
       "0                  34                74                          14     200   \n",
       "\n",
       "   Number_of_records  \n",
       "0                 40  "
      ]
     },
     "execution_count": 7,
     "metadata": {},
     "output_type": "execute_result"
    }
   ],
   "source": [
    "data = {'IP_Address':['10.128.2.1'], 'Time_Difference_Mean':[99], 'Time_Difference_Variance':[54], 'Time_Difference_Sum':[105], 'Time_Difference_Maximum':[15], 'Character-bigrams':[45], 'Character-trigrams':[34], 'Character-ngrams':[74], 'Count_of_most_visited_page':[14], 'Status':[200], 'Number_of_records':[40]}\n",
    "work_dataset = pd.DataFrame(data)\n",
    "work_dataset"
   ]
  },
  {
   "cell_type": "code",
   "execution_count": 8,
   "metadata": {},
   "outputs": [],
   "source": [
    "def time_stats(dataframe):\n",
    "    time_array = dataframe.iloc[:, 1].values\n",
    "    max_time_diff = 0\n",
    "    count = 0\n",
    "    sum_time_diff = 0\n",
    "    for i in range(1, len(time_array)):\n",
    "        time1 = time_array[i]\n",
    "        time2 = time_array[i-1]\n",
    "        index1 = 0\n",
    "        for char in time1:\n",
    "            if(char==':'):\n",
    "                break\n",
    "            index1 = index1 +1\n",
    "        time1 = time1[index1+1:]\n",
    "        index2 = 0\n",
    "        for char in time2:\n",
    "            if(char==':'):\n",
    "                break\n",
    "            index2 = index2 + 1\n",
    "        time2 = time2[index2+1:]\n",
    "        dtime1 = datetime.datetime.strptime(time1, '%H:%M:%S')\n",
    "        dtime2 = datetime.datetime.strptime(time2, '%H:%M:%S')\n",
    "        diff = (dtime1 - dtime2).seconds\n",
    "        sum_time_diff = sum_time_diff + diff\n",
    "        count = count + 1\n",
    "        \n",
    "        if max_time_diff < diff:\n",
    "            max_time_diff = diff\n",
    "    \n",
    "    mean_time_diff = 0\n",
    "    if count!=0:\n",
    "        mean_time_diff = sum_time_diff/count\n",
    "    \n",
    "    var_sum = 0\n",
    "    for i in range(1, len(time_array)):\n",
    "        time1 = time_array[i]\n",
    "        time2 = time_array[i-1]\n",
    "        index1 = 0\n",
    "        for char in time1:\n",
    "            if(char==':'):\n",
    "                break\n",
    "            index1 = index1 +1\n",
    "        time1 = time1[index1+1:]\n",
    "        index2 = 0\n",
    "        for char in time2:\n",
    "            if(char==':'):\n",
    "                break\n",
    "            index2 = index2 + 1\n",
    "        time2 = time2[index2+1:]\n",
    "        dtime1 = datetime.datetime.strptime(time1, '%H:%M:%S')\n",
    "        dtime2 = datetime.datetime.strptime(time2, '%H:%M:%S')\n",
    "        diff = (dtime1 - dtime2).seconds\n",
    "        curvar = (mean_time_diff-diff)*(mean_time_diff-diff)\n",
    "        var_sum = var_sum + curvar\n",
    "    \n",
    "    variance_time_diff = 0\n",
    "    if count != 0:\n",
    "        variance_time_diff = var_sum/count\n",
    "    return max_time_diff, mean_time_diff, sum_time_diff, variance_time_diff"
   ]
  },
  {
   "cell_type": "code",
   "execution_count": 9,
   "metadata": {},
   "outputs": [
    {
     "data": {
      "text/plain": [
       "(23466, 95.58376511226253, 55343, 1112702.1497191428)"
      ]
     },
     "execution_count": 9,
     "metadata": {},
     "output_type": "execute_result"
    }
   ],
   "source": [
    "time_stats(df)"
   ]
  },
  {
   "cell_type": "code",
   "execution_count": 10,
   "metadata": {},
   "outputs": [],
   "source": [
    "import re\n",
    "import string\n",
    "import nltk\n",
    "import nltk.corpus\n",
    "from nltk.corpus import stopwords\n",
    "from nltk.tokenize import word_tokenize\n",
    "from nltk.util import bigrams"
   ]
  },
  {
   "cell_type": "code",
   "execution_count": 11,
   "metadata": {},
   "outputs": [],
   "source": [
    "def most_frequent(List): \n",
    "    return max(set(List), key = List.count)"
   ]
  },
  {
   "cell_type": "code",
   "execution_count": 12,
   "metadata": {},
   "outputs": [],
   "source": [
    "def bigram_stats(dataframe):\n",
    "    url_array = dataframe.iloc[:,2].values\n",
    "    full_string = \"\"\n",
    "    for url in url_array:\n",
    "        full_string = full_string + url\n",
    "    full_string = full_string.lower()\n",
    "    full_string = re.sub(r'\\d+', '', full_string)\n",
    "    table = str.maketrans({key: None for key in string.punctuation})\n",
    "    full_string = full_string.translate(table) \n",
    "    full_string = full_string.strip()\n",
    "    full_string_tokens = word_tokenize(full_string)\n",
    "    for char in full_string_tokens:\n",
    "        if char == 'get':\n",
    "            full_string_tokens.remove('get')\n",
    "    for char in full_string_tokens:\n",
    "        if char == 'httpget':\n",
    "            full_string_tokens.remove('httpget')\n",
    "    for char in full_string_tokens:\n",
    "        if char == 'httppost':\n",
    "            full_string_tokens.remove('httppost')\n",
    "    for char in full_string_tokens:\n",
    "        if char == 'post':\n",
    "            full_string_tokens.remove('post')\n",
    "    \n",
    "    count_most_visited_page = 0\n",
    "    if len(full_string_tokens)!=0:\n",
    "        most_visited_page = most_frequent(full_string_tokens)\n",
    "        count_most_visited_page = full_string_tokens.count(most_visited_page)\n",
    "        \n",
    "    \n",
    "    count_most_appearing_bigram = 0\n",
    "    bigrams = list(nltk.bigrams(full_string_tokens))\n",
    "    if len(bigrams)!=0:\n",
    "        most_appearing_bigram = most_frequent(bigrams)\n",
    "        count_most_appearing_bigram = bigrams.count(most_appearing_bigram)\n",
    "    \n",
    "    count_most_appearing_trigram = 0\n",
    "    trigrams = list(nltk.trigrams(full_string_tokens))\n",
    "    if len(trigrams)!=0:\n",
    "        most_appearing_trigram = most_frequent(trigrams)\n",
    "        count_most_appearing_trigram = trigrams.count(most_appearing_trigram)\n",
    "    \n",
    "    count_most_appearing_ngram = 0\n",
    "    ngrams = list(nltk.ngrams(full_string_tokens, 6))\n",
    "    if len(ngrams)!=0:\n",
    "        most_appearing_ngram = most_frequent(ngrams)\n",
    "        count_most_appearing_ngram = ngrams.count(most_appearing_ngram)\n",
    "        \n",
    "    return count_most_visited_page, count_most_appearing_bigram, count_most_appearing_trigram, count_most_appearing_ngram"
   ]
  },
  {
   "cell_type": "code",
   "execution_count": 13,
   "metadata": {},
   "outputs": [
    {
     "data": {
      "text/plain": [
       "(79, 27, 17, 5)"
      ]
     },
     "execution_count": 13,
     "metadata": {},
     "output_type": "execute_result"
    }
   ],
   "source": [
    "bigram_stats(df)"
   ]
  },
  {
   "cell_type": "code",
   "execution_count": 14,
   "metadata": {},
   "outputs": [],
   "source": [
    "from collections import Counter"
   ]
  },
  {
   "cell_type": "code",
   "execution_count": 15,
   "metadata": {},
   "outputs": [],
   "source": [
    "def most_visited_ip(dataframe):\n",
    "    ip = dataframe.iloc[:,0].values\n",
    "    x = Counter(ip)\n",
    "    return x.most_common(1)[0][0]"
   ]
  },
  {
   "cell_type": "code",
   "execution_count": 16,
   "metadata": {},
   "outputs": [
    {
     "data": {
      "text/plain": [
       "'10.131.2.1'"
      ]
     },
     "execution_count": 16,
     "metadata": {},
     "output_type": "execute_result"
    }
   ],
   "source": [
    "most_visited_ip(df)"
   ]
  },
  {
   "cell_type": "code",
   "execution_count": 17,
   "metadata": {},
   "outputs": [],
   "source": [
    "def most_freq_status(dataframe):\n",
    "    status = dataframe.iloc[:,3].values\n",
    "    x = Counter(status)\n",
    "    return x.most_common(1)[0][0]"
   ]
  },
  {
   "cell_type": "code",
   "execution_count": 18,
   "metadata": {},
   "outputs": [
    {
     "data": {
      "text/plain": [
       "200"
      ]
     },
     "execution_count": 18,
     "metadata": {},
     "output_type": "execute_result"
    }
   ],
   "source": [
    "most_freq_status(df)"
   ]
  },
  {
   "cell_type": "code",
   "execution_count": 20,
   "metadata": {},
   "outputs": [],
   "source": [
    "startindex = 0\n",
    "endindex = 0\n",
    "prevdate = \"\"\n",
    "p = 1\n",
    "for i,row in dataset.iterrows():\n",
    "    \n",
    "    date = row['Time'][1:12]\n",
    "    if i==0:\n",
    "        prevdate = date\n",
    "    else:\n",
    "        if date == prevdate:\n",
    "            endindex = endindex + 1\n",
    "        else:\n",
    "            data = dataset.iloc[startindex:endindex+1, :]\n",
    "            max_time_diff, mean_time_diff, sum_time_diff, variance_time_diff = time_stats(data)\n",
    "            #print(max_time_diff, mean_time_diff, sum_time_diff, variance_time_diff)\n",
    "            count_most_visited_page, count_most_appearing_bigram, count_most_appearing_trigram, count_most_appearing_ngram = bigram_stats(data)\n",
    "            #print(count_most_visited_page, count_most_appearing_bigram, count_most_appearing_trigram, count_most_appearing_ngram)\n",
    "            most_vis_ip = most_visited_ip(data)\n",
    "            most_frequent_status = most_freq_status(data)\n",
    "            #print(most_vis_ip, most_frequent_status, end = ' ')\n",
    "            #print()\n",
    "            if most_vis_ip == None:\n",
    "                most_vis_ip = '10.130.2.1'\n",
    "            if most_frequent_status == None:\n",
    "                most_frequent_status = 200\n",
    "            work_dataset.loc[p]=[count_most_appearing_bigram, count_most_appearing_ngram, count_most_appearing_trigram, count_most_visited_page, most_vis_ip, endindex - startindex + 1, most_frequent_status, max_time_diff, mean_time_diff, sum_time_diff, variance_time_diff]\n",
    "            startindex = endindex\n",
    "            #endindex = endindex + 1\n",
    "            prevdate = date\n",
    "            p = p + 1\n",
    "            #print(max_time_diff, mean_time_diff, sum_time_diff, variance_time_diff)"
   ]
  },
  {
   "cell_type": "code",
   "execution_count": 19,
   "metadata": {},
   "outputs": [
    {
     "data": {
      "text/html": [
       "<div>\n",
       "<style scoped>\n",
       "    .dataframe tbody tr th:only-of-type {\n",
       "        vertical-align: middle;\n",
       "    }\n",
       "\n",
       "    .dataframe tbody tr th {\n",
       "        vertical-align: top;\n",
       "    }\n",
       "\n",
       "    .dataframe thead th {\n",
       "        text-align: right;\n",
       "    }\n",
       "</style>\n",
       "<table border=\"1\" class=\"dataframe\">\n",
       "  <thead>\n",
       "    <tr style=\"text-align: right;\">\n",
       "      <th></th>\n",
       "      <th>IP_Address</th>\n",
       "      <th>Time_Difference_Mean</th>\n",
       "      <th>Time_Difference_Variance</th>\n",
       "      <th>Time_Difference_Sum</th>\n",
       "      <th>Time_Difference_Maximum</th>\n",
       "      <th>Character-bigrams</th>\n",
       "      <th>Character-trigrams</th>\n",
       "      <th>Character-ngrams</th>\n",
       "      <th>Count_of_most_visited_page</th>\n",
       "      <th>Status</th>\n",
       "      <th>Number_of_records</th>\n",
       "    </tr>\n",
       "  </thead>\n",
       "  <tbody>\n",
       "    <tr>\n",
       "      <th>0</th>\n",
       "      <td>10.128.2.1</td>\n",
       "      <td>99</td>\n",
       "      <td>54</td>\n",
       "      <td>105</td>\n",
       "      <td>15</td>\n",
       "      <td>45</td>\n",
       "      <td>34</td>\n",
       "      <td>74</td>\n",
       "      <td>14.000000</td>\n",
       "      <td>200</td>\n",
       "      <td>4.000000e+01</td>\n",
       "    </tr>\n",
       "    <tr>\n",
       "      <th>1</th>\n",
       "      <td>27</td>\n",
       "      <td>5</td>\n",
       "      <td>17</td>\n",
       "      <td>79</td>\n",
       "      <td>10.131.2.1</td>\n",
       "      <td>580</td>\n",
       "      <td>200</td>\n",
       "      <td>23466</td>\n",
       "      <td>95.583765</td>\n",
       "      <td>55343</td>\n",
       "      <td>1.112702e+06</td>\n",
       "    </tr>\n",
       "    <tr>\n",
       "      <th>2</th>\n",
       "      <td>69</td>\n",
       "      <td>26</td>\n",
       "      <td>46</td>\n",
       "      <td>343</td>\n",
       "      <td>10.131.0.1</td>\n",
       "      <td>2991</td>\n",
       "      <td>200</td>\n",
       "      <td>86399</td>\n",
       "      <td>143.820401</td>\n",
       "      <td>430023</td>\n",
       "      <td>1.013628e+07</td>\n",
       "    </tr>\n",
       "    <tr>\n",
       "      <th>3</th>\n",
       "      <td>13</td>\n",
       "      <td>5</td>\n",
       "      <td>10</td>\n",
       "      <td>44</td>\n",
       "      <td>10.131.0.1</td>\n",
       "      <td>468</td>\n",
       "      <td>200</td>\n",
       "      <td>9569</td>\n",
       "      <td>189.541756</td>\n",
       "      <td>88516</td>\n",
       "      <td>8.867826e+05</td>\n",
       "    </tr>\n",
       "    <tr>\n",
       "      <th>4</th>\n",
       "      <td>16</td>\n",
       "      <td>4</td>\n",
       "      <td>10</td>\n",
       "      <td>32</td>\n",
       "      <td>10.130.2.1</td>\n",
       "      <td>168</td>\n",
       "      <td>200</td>\n",
       "      <td>12157</td>\n",
       "      <td>508.694611</td>\n",
       "      <td>84952</td>\n",
       "      <td>2.615859e+06</td>\n",
       "    </tr>\n",
       "    <tr>\n",
       "      <th>...</th>\n",
       "      <td>...</td>\n",
       "      <td>...</td>\n",
       "      <td>...</td>\n",
       "      <td>...</td>\n",
       "      <td>...</td>\n",
       "      <td>...</td>\n",
       "      <td>...</td>\n",
       "      <td>...</td>\n",
       "      <td>...</td>\n",
       "      <td>...</td>\n",
       "      <td>...</td>\n",
       "    </tr>\n",
       "    <tr>\n",
       "      <th>63</th>\n",
       "      <td>6</td>\n",
       "      <td>1</td>\n",
       "      <td>3</td>\n",
       "      <td>14</td>\n",
       "      <td>10.131.0.1</td>\n",
       "      <td>139</td>\n",
       "      <td>200</td>\n",
       "      <td>40719</td>\n",
       "      <td>799.347826</td>\n",
       "      <td>110310</td>\n",
       "      <td>2.461098e+07</td>\n",
       "    </tr>\n",
       "    <tr>\n",
       "      <th>64</th>\n",
       "      <td>5</td>\n",
       "      <td>2</td>\n",
       "      <td>3</td>\n",
       "      <td>11</td>\n",
       "      <td>10.131.0.1</td>\n",
       "      <td>98</td>\n",
       "      <td>200</td>\n",
       "      <td>26367</td>\n",
       "      <td>801.041237</td>\n",
       "      <td>77701</td>\n",
       "      <td>1.140965e+07</td>\n",
       "    </tr>\n",
       "    <tr>\n",
       "      <th>65</th>\n",
       "      <td>6</td>\n",
       "      <td>1</td>\n",
       "      <td>3</td>\n",
       "      <td>19</td>\n",
       "      <td>10.128.2.1</td>\n",
       "      <td>83</td>\n",
       "      <td>200</td>\n",
       "      <td>37698</td>\n",
       "      <td>1609.439024</td>\n",
       "      <td>131974</td>\n",
       "      <td>2.751322e+07</td>\n",
       "    </tr>\n",
       "    <tr>\n",
       "      <th>66</th>\n",
       "      <td>6</td>\n",
       "      <td>2</td>\n",
       "      <td>4</td>\n",
       "      <td>21</td>\n",
       "      <td>10.130.2.1</td>\n",
       "      <td>123</td>\n",
       "      <td>200</td>\n",
       "      <td>22220</td>\n",
       "      <td>602.032787</td>\n",
       "      <td>73448</td>\n",
       "      <td>8.091683e+06</td>\n",
       "    </tr>\n",
       "    <tr>\n",
       "      <th>67</th>\n",
       "      <td>3</td>\n",
       "      <td>1</td>\n",
       "      <td>3</td>\n",
       "      <td>5</td>\n",
       "      <td>10.130.2.1</td>\n",
       "      <td>31</td>\n",
       "      <td>200</td>\n",
       "      <td>4660</td>\n",
       "      <td>280.800000</td>\n",
       "      <td>8424</td>\n",
       "      <td>7.664556e+05</td>\n",
       "    </tr>\n",
       "  </tbody>\n",
       "</table>\n",
       "<p>68 rows × 11 columns</p>\n",
       "</div>"
      ],
      "text/plain": [
       "    IP_Address  Time_Difference_Mean  Time_Difference_Variance  \\\n",
       "0   10.128.2.1                    99                        54   \n",
       "1           27                     5                        17   \n",
       "2           69                    26                        46   \n",
       "3           13                     5                        10   \n",
       "4           16                     4                        10   \n",
       "..         ...                   ...                       ...   \n",
       "63           6                     1                         3   \n",
       "64           5                     2                         3   \n",
       "65           6                     1                         3   \n",
       "66           6                     2                         4   \n",
       "67           3                     1                         3   \n",
       "\n",
       "    Time_Difference_Sum Time_Difference_Maximum  Character-bigrams  \\\n",
       "0                   105                      15                 45   \n",
       "1                    79              10.131.2.1                580   \n",
       "2                   343              10.131.0.1               2991   \n",
       "3                    44              10.131.0.1                468   \n",
       "4                    32              10.130.2.1                168   \n",
       "..                  ...                     ...                ...   \n",
       "63                   14              10.131.0.1                139   \n",
       "64                   11              10.131.0.1                 98   \n",
       "65                   19              10.128.2.1                 83   \n",
       "66                   21              10.130.2.1                123   \n",
       "67                    5              10.130.2.1                 31   \n",
       "\n",
       "    Character-trigrams  Character-ngrams  Count_of_most_visited_page  Status  \\\n",
       "0                   34                74                   14.000000     200   \n",
       "1                  200             23466                   95.583765   55343   \n",
       "2                  200             86399                  143.820401  430023   \n",
       "3                  200              9569                  189.541756   88516   \n",
       "4                  200             12157                  508.694611   84952   \n",
       "..                 ...               ...                         ...     ...   \n",
       "63                 200             40719                  799.347826  110310   \n",
       "64                 200             26367                  801.041237   77701   \n",
       "65                 200             37698                 1609.439024  131974   \n",
       "66                 200             22220                  602.032787   73448   \n",
       "67                 200              4660                  280.800000    8424   \n",
       "\n",
       "    Number_of_records  \n",
       "0        4.000000e+01  \n",
       "1        1.112702e+06  \n",
       "2        1.013628e+07  \n",
       "3        8.867826e+05  \n",
       "4        2.615859e+06  \n",
       "..                ...  \n",
       "63       2.461098e+07  \n",
       "64       1.140965e+07  \n",
       "65       2.751322e+07  \n",
       "66       8.091683e+06  \n",
       "67       7.664556e+05  \n",
       "\n",
       "[68 rows x 11 columns]"
      ]
     },
     "execution_count": 19,
     "metadata": {},
     "output_type": "execute_result"
    }
   ],
   "source": [
    "work_dataset"
   ]
  },
  {
   "cell_type": "code",
   "execution_count": 20,
   "metadata": {},
   "outputs": [],
   "source": [
    "work_dataset = work_dataset.drop(work_dataset.index[0])\n",
    "work_dataset = work_dataset.rename(columns={\"IP_Address\": \"Time_Difference_Maximum\",\"Time_Difference_Maximum\": \"IP_Address\", }, errors=\"raise\")"
   ]
  },
  {
   "cell_type": "code",
   "execution_count": 21,
   "metadata": {},
   "outputs": [],
   "source": [
    "Ip_rep = np.array([])\n",
    "for i,row in work_dataset.iterrows():\n",
    "    ip = row[4]\n",
    "    p = ip.split('.')\n",
    "    p = p[0] + p[1] + p[2]\n",
    "    #ip = ip.replace('.', '')\n",
    "    a = int(p)\n",
    "    Ip_rep = np.append(Ip_rep, a)\n",
    "Ip_rep\n",
    "work_dataset['IP_rep'] = Ip_rep"
   ]
  },
  {
   "cell_type": "code",
   "execution_count": 22,
   "metadata": {},
   "outputs": [
    {
     "data": {
      "text/html": [
       "<div>\n",
       "<style scoped>\n",
       "    .dataframe tbody tr th:only-of-type {\n",
       "        vertical-align: middle;\n",
       "    }\n",
       "\n",
       "    .dataframe tbody tr th {\n",
       "        vertical-align: top;\n",
       "    }\n",
       "\n",
       "    .dataframe thead th {\n",
       "        text-align: right;\n",
       "    }\n",
       "</style>\n",
       "<table border=\"1\" class=\"dataframe\">\n",
       "  <thead>\n",
       "    <tr style=\"text-align: right;\">\n",
       "      <th></th>\n",
       "      <th>Time_Difference_Maximum</th>\n",
       "      <th>Time_Difference_Mean</th>\n",
       "      <th>Time_Difference_Variance</th>\n",
       "      <th>Time_Difference_Sum</th>\n",
       "      <th>IP_Address</th>\n",
       "      <th>Character-bigrams</th>\n",
       "      <th>Character-trigrams</th>\n",
       "      <th>Character-ngrams</th>\n",
       "      <th>Count_of_most_visited_page</th>\n",
       "      <th>Status</th>\n",
       "      <th>Number_of_records</th>\n",
       "      <th>IP_rep</th>\n",
       "    </tr>\n",
       "  </thead>\n",
       "  <tbody>\n",
       "    <tr>\n",
       "      <th>1</th>\n",
       "      <td>27</td>\n",
       "      <td>5</td>\n",
       "      <td>17</td>\n",
       "      <td>79</td>\n",
       "      <td>10.131.2.1</td>\n",
       "      <td>580</td>\n",
       "      <td>200</td>\n",
       "      <td>23466</td>\n",
       "      <td>95.583765</td>\n",
       "      <td>55343</td>\n",
       "      <td>1.112702e+06</td>\n",
       "      <td>101312.0</td>\n",
       "    </tr>\n",
       "    <tr>\n",
       "      <th>2</th>\n",
       "      <td>69</td>\n",
       "      <td>26</td>\n",
       "      <td>46</td>\n",
       "      <td>343</td>\n",
       "      <td>10.131.0.1</td>\n",
       "      <td>2991</td>\n",
       "      <td>200</td>\n",
       "      <td>86399</td>\n",
       "      <td>143.820401</td>\n",
       "      <td>430023</td>\n",
       "      <td>1.013628e+07</td>\n",
       "      <td>101310.0</td>\n",
       "    </tr>\n",
       "    <tr>\n",
       "      <th>3</th>\n",
       "      <td>13</td>\n",
       "      <td>5</td>\n",
       "      <td>10</td>\n",
       "      <td>44</td>\n",
       "      <td>10.131.0.1</td>\n",
       "      <td>468</td>\n",
       "      <td>200</td>\n",
       "      <td>9569</td>\n",
       "      <td>189.541756</td>\n",
       "      <td>88516</td>\n",
       "      <td>8.867826e+05</td>\n",
       "      <td>101310.0</td>\n",
       "    </tr>\n",
       "    <tr>\n",
       "      <th>4</th>\n",
       "      <td>16</td>\n",
       "      <td>4</td>\n",
       "      <td>10</td>\n",
       "      <td>32</td>\n",
       "      <td>10.130.2.1</td>\n",
       "      <td>168</td>\n",
       "      <td>200</td>\n",
       "      <td>12157</td>\n",
       "      <td>508.694611</td>\n",
       "      <td>84952</td>\n",
       "      <td>2.615859e+06</td>\n",
       "      <td>101302.0</td>\n",
       "    </tr>\n",
       "    <tr>\n",
       "      <th>5</th>\n",
       "      <td>4</td>\n",
       "      <td>1</td>\n",
       "      <td>3</td>\n",
       "      <td>9</td>\n",
       "      <td>10.129.2.1</td>\n",
       "      <td>105</td>\n",
       "      <td>200</td>\n",
       "      <td>13917</td>\n",
       "      <td>619.836538</td>\n",
       "      <td>64463</td>\n",
       "      <td>5.431493e+06</td>\n",
       "      <td>101292.0</td>\n",
       "    </tr>\n",
       "  </tbody>\n",
       "</table>\n",
       "</div>"
      ],
      "text/plain": [
       "  Time_Difference_Maximum  Time_Difference_Mean  Time_Difference_Variance  \\\n",
       "1                      27                     5                        17   \n",
       "2                      69                    26                        46   \n",
       "3                      13                     5                        10   \n",
       "4                      16                     4                        10   \n",
       "5                       4                     1                         3   \n",
       "\n",
       "   Time_Difference_Sum  IP_Address  Character-bigrams  Character-trigrams  \\\n",
       "1                   79  10.131.2.1                580                 200   \n",
       "2                  343  10.131.0.1               2991                 200   \n",
       "3                   44  10.131.0.1                468                 200   \n",
       "4                   32  10.130.2.1                168                 200   \n",
       "5                    9  10.129.2.1                105                 200   \n",
       "\n",
       "   Character-ngrams  Count_of_most_visited_page  Status  Number_of_records  \\\n",
       "1             23466                   95.583765   55343       1.112702e+06   \n",
       "2             86399                  143.820401  430023       1.013628e+07   \n",
       "3              9569                  189.541756   88516       8.867826e+05   \n",
       "4             12157                  508.694611   84952       2.615859e+06   \n",
       "5             13917                  619.836538   64463       5.431493e+06   \n",
       "\n",
       "     IP_rep  \n",
       "1  101312.0  \n",
       "2  101310.0  \n",
       "3  101310.0  \n",
       "4  101302.0  \n",
       "5  101292.0  "
      ]
     },
     "execution_count": 22,
     "metadata": {},
     "output_type": "execute_result"
    }
   ],
   "source": [
    "work_dataset.head()"
   ]
  },
  {
   "cell_type": "code",
   "execution_count": 23,
   "metadata": {},
   "outputs": [],
   "source": [
    "work_dataset.drop('IP_Address', axis=1, inplace=True)"
   ]
  },
  {
   "cell_type": "code",
   "execution_count": 24,
   "metadata": {},
   "outputs": [],
   "source": [
    "X = work_dataset.iloc[:,:].values"
   ]
  },
  {
   "cell_type": "code",
   "execution_count": 25,
   "metadata": {},
   "outputs": [],
   "source": [
    "from sklearn.preprocessing import StandardScaler\n",
    "sc_X = StandardScaler()\n",
    "X = sc_X.fit_transform(X)"
   ]
  },
  {
   "cell_type": "code",
   "execution_count": 26,
   "metadata": {},
   "outputs": [],
   "source": [
    "from sklearn.cluster import KMeans\n",
    "kmeans = KMeans(n_clusters = 5,random_state = 0)"
   ]
  },
  {
   "cell_type": "code",
   "execution_count": 27,
   "metadata": {},
   "outputs": [
    {
     "data": {
      "text/plain": [
       "KMeans(n_clusters=5, random_state=0)"
      ]
     },
     "execution_count": 27,
     "metadata": {},
     "output_type": "execute_result"
    }
   ],
   "source": [
    "kmeans.fit(X)"
   ]
  },
  {
   "cell_type": "code",
   "execution_count": 28,
   "metadata": {},
   "outputs": [
    {
     "data": {
      "text/plain": [
       "array([1, 3, 1, 1, 1, 1, 1, 1, 4, 1, 1, 1, 1, 1, 1, 1, 1, 1, 1, 1, 1, 1,\n",
       "       1, 1, 1, 1, 1, 1, 1, 1, 0, 1, 3, 1, 3, 1, 1, 1, 1, 0, 1, 1, 0, 1,\n",
       "       1, 0, 1, 0, 0, 1, 0, 2, 4, 1, 0, 1, 0, 0, 1, 1, 1, 1, 1, 1, 1, 1,\n",
       "       1])"
      ]
     },
     "execution_count": 28,
     "metadata": {},
     "output_type": "execute_result"
    }
   ],
   "source": [
    "y_kmeans = kmeans.predict(X)\n",
    "y_kmeans"
   ]
  },
  {
   "cell_type": "code",
   "execution_count": 29,
   "metadata": {},
   "outputs": [
    {
     "data": {
      "image/png": "[encoded data removed]",
      "text/plain": [
       "<Figure size 432x288 with 1 Axes>"
      ]
     },
     "metadata": {
      "needs_background": "light"
     },
     "output_type": "display_data"
    }
   ],
   "source": [
    "plt.scatter(X[y_kmeans == 0, 4], X[y_kmeans == 0, 3], c = 'red', label = 'Cluster 1')\n",
    "plt.scatter(X[y_kmeans == 1, 4], X[y_kmeans == 1, 3], c = 'blue', label = 'Cluster 2')\n",
    "plt.scatter(X[y_kmeans == 2, 4], X[y_kmeans == 2, 3], c = 'green', label = 'Cluster 3')\n",
    "plt.scatter(X[y_kmeans == 3, 4], X[y_kmeans == 3, 3], c = 'cyan', label = 'Cluster 4')\n",
    "plt.scatter(X[y_kmeans == 4, 4], X[y_kmeans == 4, 3], c = 'magenta', label = 'Cluster 5')\n",
    "#plt.scatter(kmeans.cluster_centers_[:, 0], kmeans.cluster_centers_[:, 1], s = 300, c = 'yellow', label = 'Centroids')\n",
    "plt.title('K_means_Clustering')\n",
    "plt.xlabel('Number_of_records')\n",
    "plt.ylabel('Count_of_most_visited_pages')\n",
    "plt.legend()\n",
    "plt.show()"
   ]
  },
  {
   "cell_type": "code",
   "execution_count": 30,
   "metadata": {},
   "outputs": [
    {
     "name": "stderr",
     "output_type": "stream",
     "text": [
      "C:\\Users\\91949\\anaconda3\\lib\\site-packages\\sklearn\\cluster\\_affinity_propagation.py:146: FutureWarning: 'random_state' has been introduced in 0.23. It will be set to None starting from 0.25 which means that results will differ at every function call. Set 'random_state' to None to silence this warning, or to 0 to keep the behavior of versions <0.23.\n",
      "  warnings.warn((\"'random_state' has been introduced in 0.23. \"\n"
     ]
    }
   ],
   "source": [
    "from sklearn.cluster import AgglomerativeClustering, AffinityPropagation \n",
    "model_affinity = AffinityPropagation(damping = 0.5, max_iter = 250, affinity = 'euclidean')\n",
    "model_affinity.fit(X)\n",
    "clust_labels2 = model_affinity.predict(X)\n",
    "cent2 = model_affinity.cluster_centers_\n",
    "affinity = pd.DataFrame(clust_labels2)"
   ]
  },
  {
   "cell_type": "code",
   "execution_count": 31,
   "metadata": {},
   "outputs": [
    {
     "data": {
      "image/png": "[encoded data removed]",
      "text/plain": [
       "<Figure size 432x288 with 1 Axes>"
      ]
     },
     "metadata": {
      "needs_background": "light"
     },
     "output_type": "display_data"
    }
   ],
   "source": [
    "plt.scatter(X[clust_labels2 == 0, 4], X[clust_labels2 == 0, 3], c = 'red', label = 'Cluster 1')\n",
    "plt.scatter(X[clust_labels2 == 1, 4], X[clust_labels2 == 1, 3], c = 'blue', label = 'Cluster 2')\n",
    "plt.scatter(X[clust_labels2 == 2, 4], X[clust_labels2 == 2, 3], c = 'green', label = 'Cluster 3')\n",
    "plt.scatter(X[clust_labels2 == 3, 4], X[clust_labels2 == 3, 3], c = 'cyan', label = 'Cluster 4')\n",
    "plt.scatter(X[clust_labels2 == 4, 4], X[clust_labels2 == 4, 3], c = 'magenta', label = 'Cluster 5')\n",
    "plt.title('Affinity Propagation Clustering')\n",
    "plt.xlabel('Number_of_records')\n",
    "plt.ylabel('Count_of_most_visited_pages')\n",
    "plt.legend()\n",
    "plt.show()"
   ]
  }
 ],
 "metadata": {
  "kernelspec": {
   "display_name": "Python 3",
   "language": "python",
   "name": "python3"
  },
  "language_info": {
   "codemirror_mode": {
    "name": "ipython",
    "version": 3
   },
   "file_extension": ".py",
   "mimetype": "text/x-python",
   "name": "python",
   "nbconvert_exporter": "python",
   "pygments_lexer": "ipython3",
   "version": "3.8.5"
  }
 },
 "nbformat": 4,
 "nbformat_minor": 2
}
